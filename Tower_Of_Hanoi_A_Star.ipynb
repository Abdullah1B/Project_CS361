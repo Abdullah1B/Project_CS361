{
  "cells": [
    {
      "cell_type": "markdown",
      "metadata": {
        "id": "view-in-github",
        "colab_type": "text"
      },
      "source": [
        "<a href=\"https://colab.research.google.com/github/Abdullah1B/Project_CS361/blob/master/Tower_Of_Hanoi_A_Star.ipynb\" target=\"_parent\"><img src=\"https://colab.research.google.com/assets/colab-badge.svg\" alt=\"Open In Colab\"/></a>"
      ]
    },
    {
      "cell_type": "markdown",
      "metadata": {
        "id": "HWhn6BAdvRfL"
      },
      "source": [
        "# 1-Introduction:\n",
        "Search algorithms are algorithms designed to search for or retrieve elements from a data structure, where they are stored. They are essential to access desired elements in a data structure and retrieve them when a need arises.In this paper, we will focus on directed search algorithms A* algorithm It is a searching algorithm that is used to find the shortest path between an initial and a final point."
      ]
    },
    {
      "cell_type": "markdown",
      "metadata": {
        "direction": "rtl",
        "id": "GCGnOobCvRfS"
      },
      "source": [
        "<div dir=\"rtl\">\n",
        "<h1> ١-المقدمة:</h1>\n",
        "<p>خوارزميات البحث هي خوارزميات مصممة للبحث عن العناصر أو استردادها من بنية البيانات ، حيث يتم تخزينها. إنها ضرورية للوصول إلى العناصر المطلوبة في بنية البيانات واسترجاعها عند الحاجة. في هذا المشروع سنركز على خوارزميات البحث  A * و هي خوارزمية بحث تُستخدم للعثور على أقصر مسار بين نقطة أولية ونقطة نهائية.      \n",
        "</p>\n",
        "</div>\n",
        " "
      ]
    },
    {
      "cell_type": "markdown",
      "metadata": {
        "id": "Vy2XrvO8vRfr"
      },
      "source": [
        "<div>\n",
        "<h1>2-Problem formulation:</h1>\n",
        "<p>Tower of Hanoi is mathematical puzzle you can solve it by moving n-disk from the first tower to the last tower, In the Tower of Hanoi game there are three towers and one of them holds n disks. n disks are ordered from higher radius to lower radius from the bottom to top.\n",
        "it is also have a three constraint that is.\n",
        "<ul>\n",
        "  <li> You can't move more than one disk at the same time.</li>\n",
        "  <li> You can't put higher disk above the lower disk.</li>\n",
        "  <li> You only move the first disk that is in tower.\n",
        "</li>\n",
        "</ul>\n",
        "</p> \n",
        "\n",
        "\n",
        "</div>"
      ]
    },
    {
      "cell_type": "markdown",
      "metadata": {
        "id": "38X46E5hvRft"
      },
      "source": [
        "<div dir = \"rtl\"> \n",
        "<h1>٢-وصف المشكلة:</h1>\n",
        "<p>\n",
        "لعبة برج هانوي هي لغز رياضي حيث يمكن حله بتحريك عدد من الاقراص الموجودة في البرج الاول الى البرج الاخير حيث ان عدد الابراج الموجودة هي ثلاثة ابراج وتحمل عدد من الاقراص مرتبة من الاكبر الى الاصغر حيث ان الاصغر في الاعلى ولديها ثلاثة شروط وهي:\n",
        "<ul>\n",
        "  <li>لاتستطيع تحريك اكثر من قرص واحد في الوقت ذاته.</li>\n",
        "  <li>لاتستطيع وضع القرص الاكبر على الاصغر.</li>\n",
        "  <li>يمكنك تحريك القرص الاول من البرج.</li>\n",
        "</ul>\n",
        "\n",
        "\n",
        "</p>\n",
        "</div>"
      ]
    },
    {
      "cell_type": "markdown",
      "metadata": {
        "id": "MwCPh6irvRfv"
      },
      "source": [
        "   \n",
        "<div>\n",
        "<h2>2.1 Initial state:</h2>\n",
        "<p>\n",
        "In initial state where all the disks is on first tower \n",
        "</p>\n",
        "</div>\n"
      ]
    },
    {
      "cell_type": "markdown",
      "metadata": {
        "id": "EdeYvkpwvRfx"
      },
      "source": [
        "<div dir = \"rtl\">\n",
        "<h2>٢.١ الحالة الاولية</h2>\n",
        "<p>في البداية تكون جميع الاقراص موضوعه في البرج الاول</p>\n",
        "\n",
        "</div>\n"
      ]
    },
    {
      "cell_type": "markdown",
      "metadata": {
        "id": "uNWDZ3MevRfy"
      },
      "source": [
        "![tower_of_hanoi.jpg](attachment:tower_of_hanoi.jpg)"
      ]
    },
    {
      "cell_type": "markdown",
      "metadata": {
        "id": "vrSH7jyPvRfz"
      },
      "source": [
        "\n",
        "<div> \n",
        "<h2>2.2 Actions:</h2>\n",
        "<p>\n",
        "A single disk can be moved at a time. </p>\n",
        "<p>The upper disk has to be moved from one peg to another.</p>\n",
        "<p>A disk of a higher radius can not be placed on a disk of a lower radius.</p>\n",
        "\n",
        "</div>\n",
        "    \n"
      ]
    },
    {
      "cell_type": "markdown",
      "metadata": {
        "id": "-kSeEeYlvRf0"
      },
      "source": [
        "<div dir =\"rtl\">\n",
        "<h2>٢.٢الافعال(الاجراءات)</h2>\n",
        "<p>يتم تحريك قرص واحد فقط.</p>\n",
        "<p>تحريك القرص الاول من البرج.</p>\n",
        "<p>لاتستطيع وضع القرص الاكبر على الاصغر.</p>\n",
        "<div>"
      ]
    },
    {
      "cell_type": "markdown",
      "metadata": {
        "id": "0SHCuHk5vRf1"
      },
      "source": [
        "\n",
        "<div>\n",
        "<h2>2.3 State space:</h2>\n",
        "    <p>All states that can be found from the initial state and the number of states it depend on current state.</p> \n",
        "</div>"
      ]
    },
    {
      "cell_type": "markdown",
      "metadata": {
        "id": "63wDC2drvRf3"
      },
      "source": [
        "<div dir = \"rtl\">\n",
        "<h2>٢.٣ فضاء الحالة</h2>\n",
        "<p> جميع الحالات التي يمكن ايجاده من الحالة الاولية و عدد الحالات يعتمد على الحالة الحالية. </p>\n",
        "<div>"
      ]
    },
    {
      "cell_type": "markdown",
      "metadata": {
        "id": "IxdkRr6mvRf4"
      },
      "source": [
        "![state%20spece.png](attachment:state%20spece.png)"
      ]
    },
    {
      "cell_type": "markdown",
      "metadata": {
        "id": "jCQj9XsevRf4"
      },
      "source": [
        "\n",
        "<div>\n",
        "<h2>2.4 Goal test:</h2>\n",
        "    <p>The goal is to move all n disks from one tower to another tower, With 3 disks the puzzle can be solved in 7 moves. The minimal number of moves required to solve a Tower of Hanoi puzzle is 2^n − 1.</p> \n",
        "</div>"
      ]
    },
    {
      "cell_type": "markdown",
      "metadata": {
        "id": "kAQKJodVvRf6"
      },
      "source": [
        "<div dir =\"rtl\">\n",
        "<h2>٢.٤ الهدف:</h2>\n",
        "<p>الهدف هو ان يتم وضع جميع الاقراص في الاخير مثلا اذا عدد الاقراص ٣ سوف تحتاج على الاقل 7 تحريكات ويتم تحديد عدد الحركات المطلوبة لحل اللغز اثنين اس عدد الاقراص ناقص واحد.   \n",
        "</p>\n",
        "</div>"
      ]
    },
    {
      "cell_type": "markdown",
      "metadata": {
        "id": "QBB5E2PTvRf6"
      },
      "source": [
        "![tower_of_hanoi.gif](attachment:tower_of_hanoi.gif)"
      ]
    },
    {
      "cell_type": "markdown",
      "metadata": {
        "id": "oPHdbOLtvRf7"
      },
      "source": [
        "<h1>3- A* Algorithm:</h1>\n",
        "<h1 dir =\"rtl\">٣-خوارزمية البحث بأولوية الأفضل:</h1>"
      ]
    },
    {
      "cell_type": "markdown",
      "metadata": {
        "id": "iIMv7ALRvRf8"
      },
      "source": [
        "## 3.1 What is a* \n",
        "The A* search algorithm, builds on the principles of Dijkstra’s shortest path algorithm to provide a faster solution when faced with the problem of finding the shortest path between two nodes.\n",
        "\n",
        "    A* algorithm has 3 parameters:\n",
        "    g : the cost of moving from the initial cell to the current cell.\n",
        "    h : also known as the heuristic value, it is the estimated cost of moving from the current cell to the final cell.\n",
        "    f : it is the sum of g and h. So, f = g + h.\n"
      ]
    },
    {
      "cell_type": "markdown",
      "metadata": {
        "id": "lPwmL7h5vRf9"
      },
      "source": [
        "<div dir = \"rtl\">  \n",
        "<h2>٣.١ ماهي خوارزمية البحث بأولوية الافضل</h2>\n",
        "\n",
        "تعتمد خوارزمية البحث ا* على مبادئ خوارزمية أقصر مسار في  لتقديم حل أسرع عند مواجهة مشكلة العثور على أقصر مسار بين عقدتين.\n",
        "\n",
        "    تحتوي الخوارزمية A * على 3 متغيرات:\n",
        "    g: تكلفة الانتقال من الخلية الأولية إلى الخلية الحالية.\n",
        "    h: تُعرف أيضًا بالقيمة الاستكشافية ، وهي التكلفة المقدرة للانتقال من الخلية الحالية إلى الخلية النهائية.\n",
        "    f: هو مجموع g و h. إذن ، f = g + h.\n",
        "</div>"
      ]
    },
    {
      "cell_type": "markdown",
      "metadata": {
        "id": "Z7KRZBEGvRf-"
      },
      "source": [
        "## 3.2 Implementation\n",
        "\n"
      ]
    },
    {
      "cell_type": "markdown",
      "metadata": {
        "id": "8qdSak7HvRf_"
      },
      "source": [
        "<div>\n",
        "<p>First, we create a Tower to hold the n-disk we implement it using a stack approach to make help us to satisfy the constraint</p>\n",
        "</div>"
      ]
    },
    {
      "cell_type": "markdown",
      "metadata": {
        "id": "GKFRuwhVvRgB"
      },
      "source": [
        "<div dir = \"rtl\">\n",
        "<h2>٣.٢ تطبيق الخورزمية</h2>\n",
        "<p>  في بادئ الامر نحن انشاءنا البرج ليحمل العديد من الاقراص وتم تنفيذه باستخدام نهج stack وذلك لمساعدة في تحقيق الشروط. </p>\n",
        "<div>"
      ]
    },
    {
      "cell_type": "code",
      "execution_count": null,
      "metadata": {
        "id": "oOIRRoCbvRgC"
      },
      "outputs": [],
      "source": [
        "import sys\n",
        "class Tower(object):\n",
        "    def __init__(self, disks=[],num_of_disk =0):\n",
        "        if len(disks) == 0:\n",
        "            self.disks = [i for i in range(num_of_disk,0,-1)]\n",
        "        else:\n",
        "            self.disks = disks\n",
        "\n",
        "    def __iter__(self):\n",
        "        return iter(self.disks)"
      ]
    },
    {
      "cell_type": "markdown",
      "metadata": {
        "id": "H7LX0e3evRgF"
      },
      "source": [
        "<p> after we create the tower to hold the disks now we will create functions that will help us to put the disk on the tower, remove the disk from the tower. First, we have isEmpty() function that will tell us whether the tower is empty or not, top() that will give us the disk that is on Top of the tower, Pop() will remove the disk from the tower, push(disk) that will add the disk to tower and make sure that will never put the higher disk on smaller disk, travel(destination) that will take the top of the tower and move it to the destination tower. See the animation\n",
        "</p>"
      ]
    },
    {
      "cell_type": "markdown",
      "metadata": {
        "id": "H92YTaa9vRgG"
      },
      "source": [
        "<div dir =\"rtl\">\n",
        "<p> بعد أن أنشأنا البرج ليحمل الأقراص ، سنقوم الآن بإنشاء وظائف ستساعدنا على وضع القرص على البرج ، وإزالة القرص من البرج. أولاً ، لدينا وظيفة isEmpty () التي ستخبرنا ما إذا كان البرج فارغًا أم لا ، أعلى () الذي سيعطينا القرص الموجود أعلى البرج ، سيقوم Pop () بإزالة القرص من البرج ، وpush(disk) الذي سيضيف القرص إلى البرج ويتأكد من عدم وضع القرص الأعلى أبدًا على قرص أصغر ، وtravel (الوجهة) الذي سيأخذ الجزء العلوي من البرج وينقله إلى برج الوجهة. مشاهدة الرسوم المتحركة\n",
        "</p>\n",
        "</div>"
      ]
    },
    {
      "cell_type": "markdown",
      "metadata": {
        "id": "Deavyu_LvRgH"
      },
      "source": [
        "![Tower_class.gif](attachment:Tower_class.gif)"
      ]
    },
    {
      "cell_type": "code",
      "execution_count": null,
      "metadata": {
        "id": "dbYle60HvRgI"
      },
      "outputs": [],
      "source": [
        "    def is_Empty(self):\n",
        "        return len(self.disks) == 0\n",
        "\n",
        "    def top(self):\n",
        "        if not self.is_Empty():\n",
        "            return self.disks[-1:].pop()\n",
        "        else:\n",
        "            return sys.maxsize\n",
        "\n",
        "    def Pop(self):\n",
        "        return self.disks.pop()\n",
        "\n",
        "    def push(self, disk):\n",
        "        if self.is_Empty():\n",
        "            self.disks.append(disk)\n",
        "        else:\n",
        "            if self.top() > disk:\n",
        "                self.disks.append(disk)\n",
        "    def travel(self,destination):\n",
        "        if not self.is_Empty():\n",
        "            if destination.top() > self.top():\n",
        "                destination.push(self.Pop())"
      ]
    },
    {
      "cell_type": "markdown",
      "metadata": {
        "id": "I9XOxh8RvRgJ"
      },
      "source": [
        "<p>After we create the tower that hold the disks now we will create the Node will carry the three tower</p>\n",
        "<p>First, we have a constructor that takes list of towers and the parent of the node</p>"
      ]
    },
    {
      "cell_type": "markdown",
      "metadata": {
        "id": "HjU9ROhqvRgJ"
      },
      "source": [
        "<div dir = \"rtl\">\n",
        "<p>بعد تم انشاء البرج الذي يحمل الاقراص الان سوف ننشاء node التي سوف تحمل الابراج الثلاثة\n",
        "</p>\n",
        "<p>\n",
        "أولاً ، لدينا مُنشئ يأخذمجموعه من الابراج وأصل العقدة\n",
        "</p>\n",
        "</div>"
      ]
    },
    {
      "cell_type": "code",
      "execution_count": null,
      "metadata": {
        "id": "9BCR7Fd5vRgK"
      },
      "outputs": [],
      "source": [
        "class Node(object):\n",
        "    def __init__(self,Towers, parent, goal_node= False):\n",
        "        self.Towers = Towers \n",
        "        self.parent = parent\n",
        "        self.goal_node = goal_node\n",
        "        self.Fvalue = None"
      ]
    },
    {
      "cell_type": "markdown",
      "metadata": {
        "id": "z2TnJBDCvRgL"
      },
      "source": [
        "<p>In each node have the f(n) that is the total cost that done by sum of (g(n) + h(n))  </p>"
      ]
    },
    {
      "cell_type": "markdown",
      "metadata": {
        "id": "sP2IUnWvvRgL"
      },
      "source": [
        "<div dir= \"rtl\">\n",
        "<p> في كل node لدينا f(n) وهي المجموع الكلي للتكلفة وهي مجموع (g(n) + h(n)) </p>\n",
        "\n",
        "\n",
        "<div>"
      ]
    },
    {
      "cell_type": "markdown",
      "metadata": {
        "id": "lFbs7iOdvRgM"
      },
      "source": [
        "<p>\n",
        "we have 3 functions that will help us to calculate the f(n), f(cost, goal_node,target,hur) it takes 4 parameters lets see it the first one is cost which mean will be the level that we are in it within a tree and the goal_node that is the goal that we want to get it, target means in which tower want to be the goal either in middle or in last, hur mean which heuristic want to. For backward_cost_g(cost) that will return the cost + 1 means that if we are in the first node the cost will be 0 and if we want to get the g(n) for the next node must we add 1 to the cost to move to the next level.we two heuristics that we will talk about it later.\n",
        "</p>"
      ]
    },
    {
      "cell_type": "markdown",
      "metadata": {
        "id": "HRQJFXtwvRgN"
      },
      "source": [
        "<div dir= \"rtl\">\n",
        "<p>\n",
        "لدينا 3 وظائف من شأنها أن تساعدنا في حساب f (n) ، f(cost, goal_node,target,hur) يستغرق الأمر 4 معلمات دعنا نراها أولها التكلفة والتي تعني أنها ستكون المستوى الذي نحن فيه بداخلها الشجرة ورمز الهدف الذي هو الهدف الذي نريد الحصول عليه ، الهدف يعني في أي برج يريد أن يكون الهدف إما في المنتصف أو في النهاية ، يعني \"hur\" أي الاستدلال تريده. بالنسبة إلى backward_cost_g (التكلفة) التي ستعيد التكلفة + 1 تعني أنه إذا كنا في العقدة الأولى ، فستكون التكلفة 0 وإذا أردنا الحصول على g (n) للعقدة التالية يجب أن نضيف 1 إلى تكلفة النقل إلى المستوى التالي ، نحن اثنان من الاستدلالات التي سنتحدث عنها لاحقًا.\n",
        "</p>\n",
        "\n",
        "</div>"
      ]
    },
    {
      "cell_type": "code",
      "execution_count": null,
      "metadata": {
        "id": "DwyVaw3KvRgN"
      },
      "outputs": [],
      "source": [
        "    \n",
        "    def f(self,cost,goal_node,target, hur):# f(n) = g(n) + h(n)\n",
        "        if hur == 1:\n",
        "            self.Fvalue = self.backward_cost_g(cost) + self.misplaced(goal_node,target)\n",
        "            return self.Fvalue\n",
        "        elif hur == 2:\n",
        "            self.Fvalue = self.backward_cost_g(cost) + self.heuristic_2(goal_node,target)\n",
        "            return self.Fvalue\n",
        "\n",
        "    def backward_cost_g(self,cost): # g(n)\n",
        "        return cost + 1\n",
        "        \n",
        "    def misplaced(self,goal_node,target):# h(n) heuristic is the number of misplaced of disks in the target stick.\n",
        "        if target == 2:\n",
        "            return len(goal_node.Towers[1]) - len(self.Towers[1]) # targt stick in the middle\n",
        "        elif target == 3:\n",
        "            return len(goal_node.Towers[2]) - len(self.Towers[2]) # target stick the last one \n",
        "    \n",
        "    def heuristic_2(self,goal_node,target):\n",
        "        if target == 2:\n",
        "            return (len(goal_node.Towers[:]) + 2) % 2\n",
        "            \n",
        "        elif target == 3:\n",
        "            return (len(goal_node.Towers[:]) + 3)%2"
      ]
    },
    {
      "cell_type": "markdown",
      "metadata": {
        "id": "Jp45bca_vRgO"
      },
      "source": [
        "## 3.3 A* with tower of hanoi\n",
        "\n",
        "<p>Now we will solve the tower of hanoi using A*</p>"
      ]
    },
    {
      "cell_type": "markdown",
      "metadata": {
        "id": "we2E2UlXvRgP"
      },
      "source": [
        "<div>\n",
        "<h3>Heuristic Function:</h3>\n",
        "<p>we have two heuristic function the first one is the misplaced of disks from goal state and we noitce that when number of disk is Odd and not equal to 3 the heuristic is not admissible otherwise is admissible and for second heuristic is that we Calculate disks in all towers , then add the sum to target tower , after that take moduolo 2 of result to get the correct position to put the disc</p>\n",
        "</div>"
      ]
    },
    {
      "cell_type": "markdown",
      "metadata": {
        "id": "SuyMLvPLvRgQ"
      },
      "source": [
        "<div dir =\"rtl\">\n",
        "<h2>٣.٣ تطبيق الخوارزمية مع برج هانوي</h2>\n",
        "<p> الان سوف نحل لغز برج هانوي باستخدام A*</p>\n",
        "<h3>دالة التوقع</h3>\n",
        "<p>لدينا وظيفتان استكشافية ، الأولى في غير مكانها من الأقراص من حالة الهدف ونلاحظ أنه عندما يكون عدد الأقراص فرديًا ولا يساوي 3 ، فإن \n",
        "الاستدلال يكون غير مقبول وإلا فإنه مقبول وبالنسبة للإجراء الثاني فهو أننا نحسب الأقراص في الكل الأبراج ، ثم أضف المجموع إلى البرج المستهدف ، بعد ذلك خذ moduolo 2 من النتيجة للحصول على الموضع الصحيح لوضع القرص</p>\n",
        "<div>"
      ]
    },
    {
      "cell_type": "markdown",
      "metadata": {
        "id": "eR4M6eKmvRgR"
      },
      "source": [
        "<p>Now we implement the A* to solve the puzzle, first, we create a constructor that will take the initial state, goal state, which heuristic you want, the number of towers by default is equal to 3</p>"
      ]
    },
    {
      "cell_type": "markdown",
      "metadata": {
        "id": "Mxdlo6uPvRgS"
      },
      "source": [
        "<div dir = \"rtl\">\n",
        "<p>الآن نقوم بتنفيذ A * لحل اللغز ، أولاً ، نقوم بإنشاء مُنشئ يأخذ الحالة الأولية ، حالة الهدف ، والتي ترشدنا ، عدد الأبراج افتراضيًا يساوي 3</p>\n",
        "</div>"
      ]
    },
    {
      "cell_type": "markdown",
      "metadata": {
        "id": "5WqNEZHpvRgT"
      },
      "source": [
        "![node.png](attachment:node.png)"
      ]
    },
    {
      "cell_type": "code",
      "execution_count": null,
      "metadata": {
        "id": "ztZ6UJJwvRgT"
      },
      "outputs": [],
      "source": [
        "from Node import Node\n",
        "from Tower import Tower as tower\n",
        "import sys\n",
        "\n",
        "class Tower_Hanoi(object):\n",
        "    def __init__(self,Initial,Goal,target ,heuristic_n):\n",
        "        self.Initial = Initial\n",
        "        self.Goal = Goal\n",
        "        self.target = target\n",
        "        self.Open_list  = [] \n",
        "        self.Closed_list = []\n",
        "        self.num_of_tower = 3\n",
        "        self.heuristic_n = heuristic_n"
      ]
    },
    {
      "cell_type": "markdown",
      "metadata": {
        "id": "yFI_0yWkvRgU"
      },
      "source": [
        "<p>Now we create a function that return the next node that is in Open list with least cost</p>"
      ]
    },
    {
      "cell_type": "markdown",
      "metadata": {
        "id": "8ti-ZWp4vRgV"
      },
      "source": [
        "<div dir = \"rtl\">\n",
        "<p>نقوم الآن بإنشاء دالة تقوم بإرجاع العقدة التالية الموجودة في القائمة المفتوحة بأقل تكلفة</p>\n",
        "\n",
        "</div>"
      ]
    },
    {
      "cell_type": "code",
      "execution_count": null,
      "metadata": {
        "id": "WL5TqYKsvRgV"
      },
      "outputs": [],
      "source": [
        "    def next_node(self,cost:int) -> Node:\n",
        "        child_cost = sys.maxsize\n",
        "        child_Index = sys.maxsize\n",
        "\n",
        "        for i , node in enumerate(self.Open_list):\n",
        "            node_cost = node.f(cost,self.Goal,self.target ,self.heuristic_n) # f(n) = g(n) + h(n)\n",
        "            if node_cost < child_cost:\n",
        "                child_cost = node_cost\n",
        "                child_Index = i\n",
        "        return self.Open_list[child_Index]"
      ]
    },
    {
      "cell_type": "markdown",
      "metadata": {
        "id": "XRdj_1cEvRgW"
      },
      "source": [
        "<p> now we create function that give us the all children for given node and we now that for every node that have number of tower * 2 moves in our case we have 6 (3 * 2) move per node</p>"
      ]
    },
    {
      "cell_type": "markdown",
      "metadata": {
        "id": "poSESwdavRgX"
      },
      "source": [
        "<div dir =\"rtl\">\n",
        "<p>\n",
        "نقوم الآن بإنشاء وظيفة تعطينا جميع الأطفال للعقدة المعينة ، والآن لكل عقدة بها عدد من الأبراج * 2 حركات في حالتنا لدينا 6 (3 * 2) تتحرك لكل عقدة\n",
        "</p>\n",
        "</div>"
      ]
    },
    {
      "cell_type": "markdown",
      "metadata": {
        "id": "X4n8A9C_vRgY"
      },
      "source": [
        "<p>we function called moves that take a node and return list of all possible moves for the current node and we will go throht this function now\n",
        "first we have is function called list_disk that takes a list of object type Tower and will return a list of disk of all tower, after that we will take the towers that a node have it and we take the disk and store it in list called towers.\n",
        "</p>"
      ]
    },
    {
      "cell_type": "code",
      "execution_count": null,
      "metadata": {
        "id": "w_Fob8-IvRgY"
      },
      "outputs": [],
      "source": [
        "def moves(self,node:Node):\n",
        "    def list_disk(list):\n",
        "        disks = []\n",
        "        for  l in list:\n",
        "            disks.append(l.disks[:])\n",
        "        return disks\n",
        "\n",
        "    towers = (tower(node.Towers[0]) ,tower(node.Towers[1]), tower(node.Towers[2])) "
      ]
    },
    {
      "cell_type": "markdown",
      "metadata": {
        "id": "aBeWE8RgvRgZ"
      },
      "source": [
        "<p>After that we will make a copy of the original tower to make all move that possible, we have a list called MoveTo that contains an index of towers in our case we know about the number of towers which is 3, and we have Tower that starts at 0 we will increment by 1 until we reach the 3 which is the number of towers.</p>"
      ]
    },
    {
      "cell_type": "markdown",
      "metadata": {
        "id": "hSvmL7N1vRgZ"
      },
      "source": [
        "<div dir = \"rtl\">\n",
        "<p> بعد ذلك سنقوم بعمل نسخة من البرج الأصلي لجعل كل حركة ممكنة ، لدينا قائمة تسمى MoveTo تحتوي على فهرس للأبراج في حالتنا نحن نعرف عدد الأبراج وهو 3 ، ولدينا البرج الذي يبدأ من 0 سنزيد بمقدار 1 حتى نصل إلى 3 وهو عدد الأبراج. </ p>\n",
        "</div>"
      ]
    },
    {
      "cell_type": "code",
      "execution_count": null,
      "metadata": {
        "id": "ymlQ-id5vRga",
        "outputId": "6cf523fd-f38a-42e3-b1da-86e7a77435ff"
      },
      "outputs": [
        {
          "ename": "NameError",
          "evalue": "name 'towers' is not defined",
          "output_type": "error",
          "traceback": [
            "\u001b[1;31m---------------------------------------------------------------------------\u001b[0m",
            "\u001b[1;31mNameError\u001b[0m                                 Traceback (most recent call last)",
            "\u001b[1;32mC:\\Users\\ABDULH~1\\AppData\\Local\\Temp/ipykernel_536/3371367197.py\u001b[0m in \u001b[0;36m<module>\u001b[1;34m\u001b[0m\n\u001b[1;32m----> 1\u001b[1;33m \u001b[0mcopy_towers\u001b[0m \u001b[1;33m=\u001b[0m \u001b[1;33m(\u001b[0m\u001b[1;33m(\u001b[0m\u001b[0mtower\u001b[0m\u001b[1;33m(\u001b[0m\u001b[0mtowers\u001b[0m\u001b[1;33m[\u001b[0m\u001b[1;36m0\u001b[0m\u001b[1;33m]\u001b[0m\u001b[1;33m.\u001b[0m\u001b[0mdisks\u001b[0m\u001b[1;33m[\u001b[0m\u001b[1;33m:\u001b[0m\u001b[1;33m]\u001b[0m\u001b[1;33m)\u001b[0m\u001b[1;33m,\u001b[0m\u001b[0mtower\u001b[0m\u001b[1;33m(\u001b[0m\u001b[0mtowers\u001b[0m\u001b[1;33m[\u001b[0m\u001b[1;36m1\u001b[0m\u001b[1;33m]\u001b[0m\u001b[1;33m.\u001b[0m\u001b[0mdisks\u001b[0m\u001b[1;33m[\u001b[0m\u001b[1;33m:\u001b[0m\u001b[1;33m]\u001b[0m\u001b[1;33m)\u001b[0m\u001b[1;33m,\u001b[0m\u001b[0mtower\u001b[0m\u001b[1;33m(\u001b[0m\u001b[0mtowers\u001b[0m\u001b[1;33m[\u001b[0m\u001b[1;36m2\u001b[0m\u001b[1;33m]\u001b[0m\u001b[1;33m.\u001b[0m\u001b[0mdisks\u001b[0m\u001b[1;33m[\u001b[0m\u001b[1;33m:\u001b[0m\u001b[1;33m]\u001b[0m\u001b[1;33m)\u001b[0m\u001b[1;33m)\u001b[0m\u001b[1;33m)\u001b[0m\u001b[1;33m\u001b[0m\u001b[1;33m\u001b[0m\u001b[0m\n\u001b[0m\u001b[0;32m      2\u001b[0m \u001b[0mMoveTo\u001b[0m \u001b[1;33m=\u001b[0m \u001b[1;33m[\u001b[0m\u001b[1;36m0\u001b[0m \u001b[1;33m,\u001b[0m \u001b[1;36m1\u001b[0m \u001b[1;33m,\u001b[0m \u001b[1;36m2\u001b[0m\u001b[1;33m]\u001b[0m\u001b[1;33m\u001b[0m\u001b[1;33m\u001b[0m\u001b[0m\n\u001b[0;32m      3\u001b[0m \u001b[0mlist_moves\u001b[0m \u001b[1;33m=\u001b[0m \u001b[1;33m[\u001b[0m\u001b[1;33m]\u001b[0m\u001b[1;33m\u001b[0m\u001b[1;33m\u001b[0m\u001b[0m\n\u001b[0;32m      4\u001b[0m \u001b[0mTower\u001b[0m \u001b[1;33m=\u001b[0m \u001b[1;36m0\u001b[0m\u001b[1;33m\u001b[0m\u001b[1;33m\u001b[0m\u001b[0m\n\u001b[0;32m      5\u001b[0m \u001b[1;33m\u001b[0m\u001b[0m\n",
            "\u001b[1;31mNameError\u001b[0m: name 'towers' is not defined"
          ]
        }
      ],
      "source": [
        "    \n",
        "    copy_towers = ((tower(towers[0].disks[:]),tower(towers[1].disks[:]),tower(towers[2].disks[:])))\n",
        "    MoveTo = [0 , 1 , 2]\n",
        "    list_moves = []\n",
        "    Tower = 0\n",
        "    "
      ]
    },
    {
      "cell_type": "markdown",
      "metadata": {
        "id": "Z4mf98G4vRgc"
      },
      "source": [
        "<p>Every node have 6 children in our case because we have 3 towers each tower have two moves for example tower A can move to B and C, B also can move to A and C, from C to A and B to overcome all combination of the node, in the first Tower is 0 so if 0 in MoveTo list which have the index we will remove 0 from MoveTo and we will go through every remaining index in MoveTo until we have nothing index left in MoveTo after that we will move from Tower 0 to Tower 1 and 2  using travel function, then we will get the disk from all tower for next children for the node, then we will add it to list of moves as Node object after that we rest the tower list to original list of towers that we took it from current node, then we will rest MoveTo list to have all index again, then will repeat the same process for remaining towers</p>"
      ]
    },
    {
      "cell_type": "markdown",
      "metadata": {
        "id": "TlooZE7fvRgd"
      },
      "source": [
        "<div dir = \"rtl\">\n",
        "<p> كل عقدة بها 6 أطفال في حالتنا لأن لدينا 3 أبراج لكل برج حركتان ، على سبيل المثال ، يمكن أن ينتقل البرج A إلى B و C ، ويمكن B أيضًا الانتقال إلى A و C ، من C إلى A و B حتى نحصل على جميع الاحتمالات الممكنة ، في البرج الأول تساوي 0 ، لذا إذا كان 0 في قائمة MoveTo التي تحتوي على الفهرس ، فسنزيل 0 من MoveTo وسنمر بكل فهرس متبقي في MoveTo حتى يتبقى لدينا أي فهرس في MoveTo بعد ذلك سننتقل من البرج 0 إلى البرج 1 و 2 باستخدام وظيفة travel ، ثم سنحصل على القرص من كل الأبراج للاطفال التاليين للعقدة ، ثم نضيفه إلى قائمة الحركات ككائن Node بعد ذلك ، ثم نضع قائمة البرج في القائمة الأصلية من الأبراج التي أخذناها من العقدة الحالية ، ثم سنعيد قائمة MoveTo للحصول على الفهرس مرة أخرى ، ثم نكرر نفس العملية للأبراج المتبقية </ p>\n",
        "\n",
        "<div>"
      ]
    },
    {
      "cell_type": "code",
      "execution_count": null,
      "metadata": {
        "id": "JayRVsyyvRge"
      },
      "outputs": [],
      "source": [
        "    while (Tower < self.num_of_tower):\n",
        "\n",
        "            if Tower in MoveTo:\n",
        "                MoveTo.remove(Tower)\n",
        "                for move in MoveTo:\n",
        "                    copy_towers[Tower].travel(copy_towers[move])\n",
        "                    \n",
        "                    disks = list_disk(copy_towers)\n",
        "                    list_moves.append(Node( disks ,parent= node))\n",
        "                    copy_towers = ((tower(towers[0].disks[:]),tower(towers[1].disks[:]),tower(towers[2].disks[:])))\n",
        "            MoveTo = [0 , 1, 2]\n",
        "            Tower +=1\n",
        "    return list_moves"
      ]
    },
    {
      "cell_type": "markdown",
      "metadata": {
        "id": "pXcQIwCvvRge"
      },
      "source": [
        "<p>Now we ready to implement the A*</p>"
      ]
    },
    {
      "cell_type": "markdown",
      "metadata": {
        "id": "79iJ6hlsvRgf"
      },
      "source": [
        "<div dir = \"rtl\">\n",
        "<p>الآن نحن جاهزون لتنفيذ A *</p>\n",
        "</div>"
      ]
    },
    {
      "cell_type": "markdown",
      "metadata": {
        "id": "cHvrk_pavRgg"
      },
      "source": [
        "<p>First we defined the cost to 0 which means we are in level 0 at the tree, then we add the Initial node to the Open list which is unexpanded nodes then we will go through until the length of the open list is 0 then we will get the next node that has least cost using next_node(cost) function that we already talk about it, after we will remove it from the open list, then increment the cost by 1, then add it to close list which is  expanded nodes\n",
        "</p>"
      ]
    },
    {
      "cell_type": "markdown",
      "metadata": {
        "id": "VDQZft5ovRgg"
      },
      "source": [
        "<div dir = \"rtl\">\n",
        "<p> أولاً حددنا التكلفة إلى 0 مما يعني أننا في المستوى 0 في الشجرة ، ثم نضيف العقدة الأولية إلى القائمة المفتوحة وهي عبارة عن عقد غير موسعة ، ثم سنستمر حتى يصبح طول القائمة المفتوحة 0 ثم سنحصل على العقدة التالية الأقل تكلفة باستخدام دالة next_node (التكلفة) التي تحدثنا عنها بالفعل ، بعد أن نزيلها من القائمة المفتوحة ، ثم نزيد التكلفة بمقدار 1 ، ثم نضيفها إلى القائمة المغلقة وهي العقد الموسعة\n",
        "</p>\n",
        "\n",
        "<div>"
      ]
    },
    {
      "cell_type": "code",
      "execution_count": null,
      "metadata": {
        "id": "RnansSl8vRgh"
      },
      "outputs": [],
      "source": [
        "def A_star_search(self):\n",
        "    cost = 0\n",
        "    self.Open_list.append(self.Initial)\n",
        "    while len(self.Open_list) > 0:\n",
        "        currentNode = self.next_node(cost)\n",
        "        self.Open_list.remove(currentNode)\n",
        "        cost += 1\n",
        "        self.Closed_list.append(currentNode)"
      ]
    },
    {
      "cell_type": "markdown",
      "metadata": {
        "id": "a2TwMV5QvRgi"
      },
      "source": [
        "<p>now we have the first condition that will tell us whether this node is equal to the goal node or not by comparing the towers if it is equal to each other or not if it is equal to the goal then return the current node, if it is not equal we will get all the children of the current node using moves function that we already talk about it above, then we will go through every move in list of moves and we have a boolean flag that indicates whether it new move or not after that we check if it is in the closed list if it's equal to each other then will change the new move flag to false, then if new move still true then we have a  new move but we still don't know whether is it in open list or not so after that we will go through the open list and check whether it's equal to each other or not if it's equal then change the new move flag to false then check if an unexpanded node that in the open list whether if it has on f(n) bigger than next move if true then will remove it from the list and add the next move, but if it's not equal then-new move flag will still true then add to open list </p>"
      ]
    },
    {
      "cell_type": "markdown",
      "metadata": {
        "id": "wQs4J7MYvRgi"
      },
      "source": [
        "<div dir =\"rtl\">\n",
        "<p> الآن لدينا الشرط الأول الذي سيخبرنا ما إذا كانت هذه العقدة تساوي عقدة الهدف أم لا من خلال مقارنة الأبراج إذا كانت متساوية مع بعضها البعض أم لا إذا كانت مساوية للهدف ثم إعادة العقدة الحالية ، إذا لم تكن متساوية ، فسنحصل على جميع أبناء العقدة الحالية باستخدام وظيفة moves التي تحدثنا عنها بالفعل أعلاه ، ثم سنمر بكل حركة في قائمة الحركات ولدينا علم منطقي يشير إلى ما إذا كانت حركة جديدة أم ليس بعد ذلك ، نتحقق مما إذا كانت موجودة في القائمة المغلقة إذا كانت متساوية مع بعضها البعض ، فسنقوم بتغيير علامة النقل الجديدة إلى خطأ ، ثم إذا كانت الحركة الجديدة لا تزال صحيحة ، فعندئذٍ لدينا حركة جديدة ولكننا ما زلنا لا نعرف ما إذا كانت كذلك في القائمة المفتوحة أو لا بعد ذلك ، سننتقل إلى القائمة المفتوحة ونتحقق مما إذا كانت متساوية مع بعضها البعض أم لا إذا كانت متساوية ، ثم قم بتغيير علامة النقل الجديدة إلى false ثم تحقق مما إذا كانت العقدة غير الموسعة موجودة في القائمة المفتوحة سواء كانت على f (n) أكبر من الخطوة التالية إذا كانت صحيحة ، فسيتم إزالتها من القائمة و إضافة الخطوة التالية ، ولكن إذا لم تكن متساوية ، فستظل علامة النقل الجديدة صحيحة ، ثم أضفها إلى القائمة المفتوحة </p>\n",
        "</div>\n"
      ]
    },
    {
      "cell_type": "code",
      "execution_count": null,
      "metadata": {
        "id": "mrb9OubCvRgj"
      },
      "outputs": [],
      "source": [
        "    if currentNode.Towers == self.Goal.Towers:\n",
        "        print(f\"We reach to the goal\\nExpanded nodes:{len(self.Closed_list)}\")\n",
        "        return currentNode\n",
        "    else:\n",
        "        list_moves = self.moves(currentNode)\n",
        "        for next_move in list_moves:\n",
        "            new_move = True\n",
        "            for expanded in self.Closed_list:\n",
        "                if expanded.Towers == next_move.Towers:\n",
        "                    new_move = False\n",
        "            if new_move:\n",
        "                for unexpanded in self.Open_list:\n",
        "                    if unexpanded.Towers == next_move.Towers:\n",
        "                        new_move = False\n",
        "                        if next_move.Fvalue != None:\n",
        "                            if unexpanded.Fvalue > next_move.Fvalue:\n",
        "                                self.Open_list.remove(unexpanded)\n",
        "                                self.Open_list.append(next_move)\n",
        "                                break\n",
        "                if new_move:\n",
        "                    self.Open_list.append(next_move)"
      ]
    },
    {
      "cell_type": "markdown",
      "metadata": {
        "id": "pXTqS-fKvRgk"
      },
      "source": [
        "## 3.4 result\n",
        "<p>now we will test our code</p>"
      ]
    },
    {
      "cell_type": "markdown",
      "metadata": {
        "id": "dEFz8R4tvRgk"
      },
      "source": [
        "<div dir =\"rtl\">\n",
        "<h2> ٣.٤ النتائج</h2>\n",
        "<p>الان سوف نختبر البرنامج</p>\n",
        "<div> "
      ]
    },
    {
      "cell_type": "code",
      "execution_count": null,
      "metadata": {
        "id": "rXbbpSPCvRgl"
      },
      "outputs": [],
      "source": [
        "from Node import Node\n",
        "from Tower import Tower as tower\n",
        "from Tower_Hanoi import Tower_Hanoi\n",
        "import time\n",
        "\n",
        "class Test:\n",
        "\n",
        "        \n",
        "    Continue = True\n",
        "    while Continue:\n",
        "        try:\n",
        "            t = int(input(\"Enter the target 2 Or 3: \"))\n",
        "            if t == 2 or t == 3:\n",
        "                Continue = False\n",
        "        except ValueError:\n",
        "            print(\"Enter either 2 Or 3\\n\")\n",
        "            continue\n",
        "\n",
        "    Continue = True\n",
        "    while Continue:\n",
        "        try:\n",
        "            n = int(input(\"Enter the number of disk: \"))\n",
        "            Continue = False\n",
        "        except ValueError:\n",
        "            print(\"Enter Intger value (1,2,3,....)\\n\")\n",
        "            continue\n",
        "    Continue = True\n",
        "    while Continue:\n",
        "        try:\n",
        "            heuristic_n = int(input(\"choice the heuristic\\n1-misplace heuristic\\n2-admissible heuristic\\nEnter: \"))\n",
        "            if heuristic_n in [1,2]:\n",
        "                Continue = False\n",
        "        except ValueError:\n",
        "            print(\"Enter either 2 Or 3\\n\")\n",
        "            continue\n",
        "    Stick_a = tower(num_of_disk=n)\n",
        "    Stick_b = tower()\n",
        "    Stick_c = tower()\n",
        "\n",
        "    if t == 2:\n",
        "        G_Stick_a = tower()\n",
        "        G_Stick_b = tower(num_of_disk=n)\n",
        "        G_Stick_c = tower()\n",
        "    elif t == 3:\n",
        "        G_Stick_a = tower()\n",
        "        G_Stick_b = tower()\n",
        "        G_Stick_c = tower(num_of_disk=n)\n",
        "\n",
        "    Initial = Node([Stick_a.disks[:], Stick_b.disks[:], Stick_c.disks[:]], parent=None)\n",
        "    Goal = Node([G_Stick_a.disks[:], G_Stick_b.disks[:], G_Stick_c.disks[:]], parent=None, goal_node=True)\n",
        "    print(f\"Initial: {Initial.Towers}\\nGoal: {Goal.Towers}\\n\")\n",
        "\n",
        "    Tower = Tower_Hanoi(Initial, Goal, t , heuristic_n) \n",
        "    start_time = time.time()\n",
        "\n",
        "    \n",
        "    node = Tower.A_star_search()\n",
        "    Path = Tower.path_to_goal(node)\n",
        "    print(f\"number of moves: {len(Path) - 1}\\nFirst one is the Initial move\\n \")\n",
        "    for i , move in enumerate( reversed(Path)):\n",
        "        print(f'No: {i}: {move.Towers}')\n",
        "    print(\"--- %s seconds ---\" % (time.time() - start_time))\n"
      ]
    },
    {
      "cell_type": "markdown",
      "metadata": {
        "id": "uqbfOTWpvRgm"
      },
      "source": [
        "<h2>Test samples</h2> \n",
        "<p>here we test a different input to our problem and see whether the heuristic perform an optimal solution</p>"
      ]
    },
    {
      "cell_type": "markdown",
      "metadata": {
        "id": "QP7fyia5vRgm"
      },
      "source": [
        "<div dir = \"rtl\">\n",
        "<h2>عينات اختبار</h2>\n",
        "<p>الان سوف نختبر عدة مدخلات و سوف نتحقق اذا دالة التوقع تؤدي الى الحل الامثل</p>\n",
        "</div>"
      ]
    },
    {
      "cell_type": "markdown",
      "metadata": {
        "id": "SC7lYql4vRgn"
      },
      "source": [
        "<p>First, we test using the misplaced heuristic it only performs the optimal solution where the number of disks is even and the optimal solution is 2^n -1 </p>"
      ]
    },
    {
      "cell_type": "markdown",
      "metadata": {
        "id": "JcJMVPVgvRgn"
      },
      "source": [
        "<div dir =\"rtl\">\n",
        "<p>\n",
        "<p> أولاً ، نختبر باستخدام الاستدلال في misplaced ، فهو لا يؤدي إلا الحل الأمثل عندما يكون عدد الأقراص متساويًا والحل الأمثل هو 2 ^ n -1 </p>\n",
        "</p>\n",
        "</div>"
      ]
    },
    {
      "cell_type": "markdown",
      "metadata": {
        "id": "_W9CLV9gvRgo"
      },
      "source": [
        "![mis.png](attachment:mis.png)"
      ]
    },
    {
      "cell_type": "markdown",
      "metadata": {
        "id": "h4mh4sa8vRgo"
      },
      "source": [
        "<p>Second, we test it using an admissible heuristic and give us the optimal solution</p>"
      ]
    },
    {
      "cell_type": "markdown",
      "metadata": {
        "id": "brKz41tLvRgp"
      },
      "source": [
        "![adm.png](attachment:adm.png)"
      ]
    },
    {
      "cell_type": "markdown",
      "metadata": {
        "id": "PHyVMkITvRgp"
      },
      "source": [
        "<div>\n",
        "<h2>visualization of tower of hanoi</h2>\n",
        "<p>We create using a pygame library a visualization for tower hanoi </p>\n",
        "</div>"
      ]
    },
    {
      "cell_type": "code",
      "execution_count": null,
      "metadata": {
        "id": "NhKIe59ovRgq"
      },
      "outputs": [],
      "source": [
        "!pip install pygame"
      ]
    },
    {
      "cell_type": "code",
      "execution_count": null,
      "metadata": {
        "id": "3-qdYyk-vRgq"
      },
      "outputs": [],
      "source": [
        "import pygame , sys\n",
        "from Node import Node\n",
        "from Tower import Tower as tower\n",
        "from Tower_Hanoi import Tower_Hanoi\n",
        "from pygame.locals import *\n",
        "import cv2\n",
        "from google.colab.patches import cv2_imshow\n",
        "from google.colab import output\n",
        "import time \n",
        "import os, sys\n",
        "os.environ[\"SDL_VIDEODRIVER\"] = \"dummy\"\n",
        "\n",
        "SPACE_PER_PEG = 200\n",
        "\n",
        "\n",
        "\n",
        "def display_pile_of_pegs(pegs, start_x, start_y, peg_height, screen):\n",
        "\n",
        "\n",
        "    for i, pegwidth in enumerate(pegs):\n",
        "\n",
        "        pygame.draw.rect(screen,(255,0,0),(start_x + (SPACE_PER_PEG - pegwidth)/2 , start_y - peg_height * i,pegwidth ,peg_height))\n",
        "\n",
        "def draw_text(text, font , color, surface, x , y ):\n",
        "    textobj = font.render(text, 1 , color)\n",
        "    textrect = textobj.get_rect()\n",
        "    textrect.topleft = (x , y)\n",
        "    surface.blit(textobj, textrect)\n",
        "\n",
        "\n",
        "def draw_tower(surface):\n",
        "    pygame.draw.rect(surface, (0 , 0 , 0), pygame.Rect(140, 100, 20, 550))\n",
        "    pygame.draw.rect(surface, (0 , 0 , 0), pygame.Rect(340, 100, 20, 550))\n",
        "    pygame.draw.rect(surface, (0 , 0 , 0), pygame.Rect(540, 100, 20, 550))\n",
        "    \n",
        "\n",
        "def visual_hanoi_simulation( base_width, peg_height, moves):\n",
        "\n",
        "    pygame.init()\n",
        "    Font = pygame.font.SysFont(None, 100)\n",
        "    Font2 = pygame.font.SysFont(None,30)\n",
        "    clock = pygame.time.Clock()\n",
        "    num_move = len(moves) -1 \n",
        "    screen = pygame.display.set_mode( (750, 650) )\n",
        "    pygame.display.set_caption('Towers of Hanoi')\n",
        "    for i in reversed(moves):\n",
        "        for j in range(0,len(i.Towers)):\n",
        "            for c in range (0 ,len(i.Towers[j])):\n",
        "                i.Towers[j][c] = i.Towers[j][c] * base_width \n",
        "    Continue = True     \n",
        "    done = False\n",
        "    while not done:\n",
        "        for event in pygame.event.get():\n",
        "            if event.type == pygame.QUIT:\n",
        "              done = True\n",
        "        if Continue:\n",
        "          \n",
        "                 \n",
        "            for move in reversed(moves):\n",
        "                screen.fill((255, 255, 255))\n",
        "                screen.fill((0,0,0), rect= [0, 545 , 800,700])\n",
        "                draw_text(f\"minimal moves: 7\", Font2, (255,0,0), screen,30 ,10 ) \n",
        "                draw_tower(screen)\n",
        " \n",
        "                for i, pile in enumerate(move.Towers):\n",
        "                    display_pile_of_pegs(pile, 50 + SPACE_PER_PEG*i, 500, peg_height, screen)\n",
        "                pygame.display.flip()\n",
        "                view = pygame.surfarray.array3d(screen)\n",
        "                view = view.transpose([1, 0, 2])\n",
        "                img_bgr = cv2.cvtColor(view, cv2.COLOR_RGB2BGR)\n",
        "                cv2_imshow(img_bgr)\n",
        "                #time.sleep(0.5)\n",
        "                clock.tick(3)\n",
        "                output.clear()\n",
        "                \n",
        "            Continue= False\n",
        "        draw_text(f\"moves: {num_move} \", Font2, (255,0,0), screen,500 ,10 ) \n",
        "        draw_text(\"we reach the goal\", Font, (255,0,0), screen,100 ,30 ) \n",
        "        pygame.display.update()\n",
        "        \n",
        "\n",
        "if __name__ == \"__main__\":\n",
        "    tower_a = tower(num_of_disk=3)\n",
        "    tower_b = tower()\n",
        "    tower_c = tower()\n",
        "\n",
        "    G_tower_a = tower()\n",
        "    G_tower_b = tower()\n",
        "    G_tower_c = tower(num_of_disk=3)\n",
        "    Initial = Node(tower_a, tower_b, tower_c, parent=None)\n",
        "    Goal = Node(G_tower_a, G_tower_b, G_tower_c, parent=None, goal_node=True)\n",
        "    Tower = Tower_Hanoi(Initial, Goal, 3, 2) \n",
        "    node = Tower.A_star_search()\n",
        "    Path = Tower.path_to_goal(node)\n",
        "    visual_hanoi_simulation(base_width= 30,peg_height= 40, moves=Path )\n",
        "    "
      ]
    },
    {
      "cell_type": "markdown",
      "metadata": {
        "id": "BXtbZDrcvRgs"
      },
      "source": [
        "## References:\n",
        "<p>1- https://sobujerkhuje.wordpress.com/2018/02/09/the-tower-of-hanoi-solution/</p>\n",
        "<p>2-https://colab.research.google.com/drive/1xtiBrGeRHmXY3KSOixkZBf_rJIgBImJu?usp=sharing#scrollTo=trViUvbXAGlj</p>\n",
        "<p>3-https://www.geeksforgeeks.org/</p>\n",
        "<p>4-https://www.pythonpool.com/a-star-algorithm-python/</p>\n",
        "<p>5-https://codereview.stackexchange.com/questions/151423/tower-of-hanoi-graphical-representation-of-optimal-solution</p>\n",
        "\n"
      ]
    },
    {
      "cell_type": "markdown",
      "metadata": {
        "id": "pIpz7oR_vRgs"
      },
      "source": [
        "## Artificial Intelligence (CS361)\n",
        "    Instructor\n",
        "    Dr. Omar Alaql\n",
        "\n",
        "    Submitted by\n",
        "    Abdullah Baskran  440012378\n",
        "    Mohammed Alsharif  440013633\n",
        "    Mohammed Alawashiz  438020893"
      ]
    }
  ],
  "metadata": {
    "kernelspec": {
      "display_name": "Python 3 (ipykernel)",
      "language": "python",
      "name": "python3"
    },
    "language_info": {
      "codemirror_mode": {
        "name": "ipython",
        "version": 3
      },
      "file_extension": ".py",
      "mimetype": "text/x-python",
      "name": "python",
      "nbconvert_exporter": "python",
      "pygments_lexer": "ipython3",
      "version": "3.9.7"
    },
    "colab": {
      "name": "Tower_Of_Hanoi_A_Star.ipynb",
      "provenance": [],
      "include_colab_link": true
    }
  },
  "nbformat": 4,
  "nbformat_minor": 0
}