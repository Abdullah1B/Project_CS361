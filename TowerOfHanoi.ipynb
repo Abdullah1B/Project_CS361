{
 "cells": [
  {
   "cell_type": "markdown",
   "metadata": {},
   "source": [
    "<h2> 1-Introduction:<h2>"
   ]
  },
  {
   "cell_type": "markdown",
   "metadata": {
    "direction": "rtl"
   },
   "source": [
    "<h2 dir=\"rtl\">١-المقدمة<h2>"
   ]
  },
  {
   "cell_type": "markdown",
   "metadata": {},
   "source": [
    "<h2>2-Problem formulation:<h2>\n",
    "<h3> 2.1 Initial state:<h3>\n",
    "<h3> 2.2 Actions:<h3>\n",
    "<h3> 2.3 State space:<h3>\n",
    "<h3> 2.4 Goal test:<h3>\n"
   ]
  },
  {
   "cell_type": "markdown",
   "metadata": {
    "direction": "rtl"
   },
   "source": [
    "<h2 dir=\"rtl\"> ٢-وصف المشكلة:<h2>\n",
    "<h3 dir=\"rtl\">٢.١ الحالة الاولية<h3>\n",
    "<h3 dir=\"rtl\">٢.٢ الافعال(الاجراءات)<h3>\n",
    "<h3 dir=\"rtl\">٢.٣ فضاء الحالة<h3>\n",
    "<h3 dir=\"rtl\">٢.٤ الهدف<h3>"
   ]
  },
  {
   "cell_type": "markdown",
   "metadata": {},
   "source": [
    "<h2>3- A* Algorithm:<h2>\n",
    "<h3> 3.1 What is a* <h3>\n",
    "<h3> 3.2 Implementation<h3>\n",
    "<h3> 3.3 A* with tower of hanoi<h3>\n",
    "<h3> 3.4 result<h3>\n"
   ]
  },
  {
   "cell_type": "markdown",
   "metadata": {
    "direction": "rtl"
   },
   "source": [
    "<h2 dir=\"rtl\" style = ****>٣-خوارزمية البحث بأولوية الأفضل:<h2>\n",
    " <h3 dir =\"rtl\">٣.١ ماهي خوارزمية البحث بأولوية الافضل<h3>\n",
    " <h3 dir =\"rtl\">٣.٢ تطبيق الخورزمية<h3>\n",
    " <h3 dir =\"rtl\">٣.٣ تطبيق الخوارزمية مع برج هانوي<h3>\n",
    " <h3 dir =\"rtl\">٣.٤ النتائج<h3>"
   ]
  },
  {
   "cell_type": "markdown",
   "metadata": {},
   "source": [
    "<h2> References:<h2> "
   ]
  }
 ],
 "metadata": {
  "kernelspec": {
   "display_name": "Python 3 (ipykernel)",
   "language": "python",
   "name": "python3"
  },
  "language_info": {
   "codemirror_mode": {
    "name": "ipython",
    "version": 3
   },
   "file_extension": ".py",
   "mimetype": "text/x-python",
   "name": "python",
   "nbconvert_exporter": "python",
   "pygments_lexer": "ipython3",
   "version": "3.9.7"
  }
 },
 "nbformat": 4,
 "nbformat_minor": 2
}
