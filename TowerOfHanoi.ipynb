{
 "cells": [
  {
   "cell_type": "markdown",
   "metadata": {},
   "source": [
    "## 1-Introduction:"
   ]
  },
  {
   "cell_type": "markdown",
   "metadata": {
    style= "direction": "rtl"
   },
   "source": [
    "##  ١-المقدمة:"
   ]
  },
  {
   "cell_type": "markdown",
   "metadata": {},
   "source": [
    "## 2-Problem formulation:\n",
    "### 2.1 Initial state:\n",
    "### 2.2 Actions:\n",
    "### 2.3 State space:\n",
    "### 2.4 Goal test:\n"
   ]
  },
  {
   "cell_type": "markdown",
   "metadata": {
    "direction": "rtl"
   },
   "source": [
    "## ٢-وصف المشكلة:\n",
    "### ٢.١ الحالة الاولية\n",
    "### ٢.٢ الافعال(الاجراءات)\n",
    "### ٢.٣ فضاء الحالة\n",
    "### ٢.٤ الهدف"
   ]
  },
  {
   "cell_type": "markdown",
   "metadata": {},
   "source": [
    "## 3- A* Algorithm:\n",
    "### 3.1 What is a* \n",
    "### 3.2 Implementation\n",
    "### 3.3 A* with tower of hanoi\n",
    "### 3.4 result\n"
   ]
  },
  {
   "cell_type": "markdown",
   "metadata": {
    "direction": "rtl"
   },
   "source": [
    "## ٣-خوارزمية البحث بأولوية الأفضل:\n",
    "### ٣.١ ماهي خوارزمية البحث بأولوية الافضل\n",
    "### ٣.٢ تطبيق الخورزمية\n",
    "### ٣.٣ تطبيق الخوارزمية مع برج هانوي\n",
    "### ٣.٤ النتائج"
   ]
  },
  {
   "cell_type": "markdown",
   "metadata": {},
   "source": [
    "## References:"
   ]
  }
 ],
 "metadata": {
  "kernelspec": {
   "display_name": "Python 3 (ipykernel)",
   "language": "python",
   "name": "python3"
  },
  "language_info": {
   "codemirror_mode": {
    "name": "ipython",
    "version": 3
   },
   "file_extension": ".py",
   "mimetype": "text/x-python",
   "name": "python",
   "nbconvert_exporter": "python",
   "pygments_lexer": "ipython3",
   "version": "3.9.7"
  }
 },
 "nbformat": 4,
 "nbformat_minor": 2
}
