{
 "cells": [
  {
   "cell_type": "markdown",
   "metadata": {},
   "source": [
    "<h2> 1-Introduction:<h2>"
   ]
  },
  {
   "cell_type": "markdown",
   "metadata": {
    "direction": "rtl"
   },
   "source": [
    "<h2><p dir=\"rtl\">١-المقدمة<p><h2>"
   ]
  },
  {
   "cell_type": "markdown",
   "metadata": {},
   "source": [
    "<h2>2-Problem formulation:<h2>\n",
    "<h3> 2.1 Initial state:<h3>\n",
    "<h3> 2.2 Actions:<h3>\n",
    "<h3> 2.3 State space:<h3>\n",
    "<h3> 2.4 Goal test:<h3>\n"
   ]
  },
  {
   "cell_type": "markdown",
   "metadata": {
    "direction": "rtl"
   },
   "source": [
    "<h2><p dir=\"rtl\"> ٢-وصف المشكلة:<p><h2>\n",
    "<h3><p dir=\"rtl\">٢.١ الحالة الاولية<p><h3>\n",
    "<h3><p dir=\"rtl\">٢.٢ الافعال(الاجراءات)<p><h3>\n",
    "<h3><p dir=\"rtl\">٢.٣ فضاء الحالة<p><h3>\n",
    "<h3><p dir=\"rtl\">٢.٤ الهدف<p><h3>"
   ]
  },
  {
   "cell_type": "markdown",
   "metadata": {},
   "source": [
    "<h2>3- A* Algorithm:<h2>\n",
    "<h3> 3.1 What is a* <h3>\n",
    "<h3> 3.2 Implementation<h3>\n",
    "<h3> 3.3 A* with tower of hanoi<h3>\n",
    "<h3> 3.4 result<h3>\n"
   ]
  },
  {
   "cell_type": "markdown",
   "metadata": {
    "direction": "rtl"
   },
   "source": [
    "<h2><p dir=\"rtl\" style = ****>٣-خوارزمية البحث بأولوية الأفضل:<p><h2>\n",
    " <h3><p dir =\"rtl\">٣.١ ماهي خوارزمية البحث بأولوية الافضل<p><h3>\n",
    " <h3><p dir =\"rtl\">٣.٢ تطبيق الخورزمية<p><h3>\n",
    " <h3><p dir =\"rtl\">٣.٣ تطبيق الخوارزمية مع برج هانوي<p><h3>\n",
    " <h3><p dir =\"rtl\">٣.٤ النتائج<p><h3>"
   ]
  },
  {
   "cell_type": "markdown",
   "metadata": {},
   "source": [
    "<h2 style =\"****\"> References:<h2> "
   ]
  }
 ],
 "metadata": {
  "kernelspec": {
   "display_name": "Python 3 (ipykernel)",
   "language": "python",
   "name": "python3"
  },
  "language_info": {
   "codemirror_mode": {
    "name": "ipython",
    "version": 3
   },
   "file_extension": ".py",
   "mimetype": "text/x-python",
   "name": "python",
   "nbconvert_exporter": "python",
   "pygments_lexer": "ipython3",
   "version": "3.9.7"
  }
 },
 "nbformat": 4,
 "nbformat_minor": 2
}
